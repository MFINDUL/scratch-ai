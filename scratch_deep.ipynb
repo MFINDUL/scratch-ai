{
 "cells": [
  {
   "cell_type": "markdown",
   "metadata": {},
   "source": [
    "# 밑바닥부터 구현하는 딥러닝!"
   ]
  },
  {
   "cell_type": "markdown",
   "metadata": {},
   "source": [
    "## 퍼셉트론 구현하기"
   ]
  },
  {
   "cell_type": "markdown",
   "metadata": {},
   "source": [
    "### 먼저 간단한 논리 게이트들 구현해보기"
   ]
  },
  {
   "cell_type": "code",
   "execution_count": 3,
   "metadata": {},
   "outputs": [
    {
     "name": "stdout",
     "output_type": "stream",
     "text": [
      "0\n",
      "0\n",
      "0\n",
      "1\n"
     ]
    }
   ],
   "source": [
    "def AND(x1,x2):\n",
    "    if (x1+x2)//2 < 1:\n",
    "        return 0\n",
    "    else:\n",
    "        return 1 \n",
    "\n",
    "print(AND(0,1))\n",
    "print(AND(1,0))\n",
    "print(AND(0,0))\n",
    "print(AND(1,1))\n"
   ]
  },
  {
   "cell_type": "code",
   "execution_count": 4,
   "metadata": {},
   "outputs": [
    {
     "name": "stdout",
     "output_type": "stream",
     "text": [
      "0\n",
      "0\n",
      "0\n",
      "1\n"
     ]
    }
   ],
   "source": [
    "def AND(x1,x2):\n",
    "    theta = 0.7\n",
    "    if (x1+x2)//2 < theta:\n",
    "        return 0\n",
    "    else:\n",
    "        return 1 \n",
    "\n",
    "print(AND(0,1))\n",
    "print(AND(1,0))\n",
    "print(AND(0,0))\n",
    "print(AND(1,1))\n",
    "\n"
   ]
  },
  {
   "cell_type": "code",
   "execution_count": 5,
   "metadata": {},
   "outputs": [
    {
     "name": "stdout",
     "output_type": "stream",
     "text": [
      "1\n",
      "1\n",
      "0\n",
      "1\n"
     ]
    }
   ],
   "source": [
    "def OR(x1,x2):\n",
    "    if x1 == 1 or x2 == 1:\n",
    "        return 1\n",
    "    else:\n",
    "        return 0\n",
    "print(OR(0,1))\n",
    "print(OR(1,0))\n",
    "print(OR(0,0))\n",
    "print(OR(1,1))\n"
   ]
  },
  {
   "cell_type": "code",
   "execution_count": 6,
   "metadata": {},
   "outputs": [
    {
     "name": "stdout",
     "output_type": "stream",
     "text": [
      "1\n",
      "1\n",
      "1\n",
      "0\n"
     ]
    }
   ],
   "source": [
    "def NAND(x1,x2):\n",
    "    theta = 0.7\n",
    "    if (x1+x2)//2 < theta:\n",
    "        return 1\n",
    "    else:\n",
    "        return 0\n",
    "print(NAND(0,1))\n",
    "print(NAND(1,0))\n",
    "print(NAND(0,0))\n",
    "print(NAND(1,1))\n"
   ]
  },
  {
   "cell_type": "code",
   "execution_count": 7,
   "metadata": {},
   "outputs": [
    {
     "name": "stdout",
     "output_type": "stream",
     "text": [
      "1\n",
      "0\n",
      "0\n",
      "1\n"
     ]
    }
   ],
   "source": [
    "print(AND(NAND(0,1),OR(0,1)))\n",
    "print(AND(NAND(0,0),OR(0,0)))\n",
    "print(AND(NAND(1,1),OR(1,1)))\n",
    "print(AND(NAND(1,0),OR(1,0)))\n",
    "# XOR 게이트 구현했음 \n",
    "\n"
   ]
  },
  {
   "cell_type": "markdown",
   "metadata": {},
   "source": [
    "## XOR을 구현한 것 처럼, 퍼셉트론이 엮이면 여러가지 함수를 근사할 수 있음 , 물론 위에꺼는 퍼셉트론이 아님 "
   ]
  },
  {
   "cell_type": "code",
   "execution_count": 8,
   "metadata": {},
   "outputs": [],
   "source": [
    "def OR(x1,x2):\n",
    "    bias = 0.1\n",
    "    threshold = 0.1\n",
    "    w1 = 0.2\n",
    "    w2 = 0.3 \n",
    "    yhet = x1*w1 + x2*w2 +bias\n",
    "    if yhet>threshold:\n",
    "        return 1\n",
    "    else :\n",
    "        return 0\n",
    "def AND(x1,x2):\n",
    "    bias = 0.1\n",
    "    threshold = 0.6\n",
    "    w1 = 0.3\n",
    "    w2 = 0.3 \n",
    "    yhet = x1*w1 + x2*w2 +bias\n",
    "    if yhet>threshold:\n",
    "        return 1\n",
    "    else :\n",
    "        return 0\n",
    "def NAND(x1,x2):\n",
    "    bias = 0.1\n",
    "    threshold = 0.6\n",
    "    w1 = 0.3\n",
    "    w2 = 0.3 \n",
    "    yhet = x1*w1 + x2*w2 +bias\n",
    "    if yhet>threshold:\n",
    "        return 0\n",
    "    else :\n",
    "        return 1\n",
    "\n",
    "def XOR(x1,x2):\n",
    "    NANDS = NAND(x1,x2)\n",
    "    ORS = OR(x1,x2)\n",
    "    ANDs = AND(NANDS,ORS)\n",
    "    return ANDs\n",
    "\n"
   ]
  },
  {
   "cell_type": "code",
   "execution_count": 17,
   "metadata": {},
   "outputs": [
    {
     "name": "stdout",
     "output_type": "stream",
     "text": [
      "[0, 0]\n",
      "AND:0  NAND:1  OR:0  XOR:0  \n",
      "[1, 0]\n",
      "AND:0  NAND:1  OR:1  XOR:1  \n",
      "[0, 1]\n",
      "AND:0  NAND:1  OR:1  XOR:1  \n",
      "[1, 1]\n",
      "AND:1  NAND:0  OR:1  XOR:0  \n"
     ]
    }
   ],
   "source": [
    "x12s = [[0,0],[1,0],[0,1],[1,1]]\n",
    "\n",
    "for i in x12s:\n",
    "    print(i,sep= ': ')\n",
    "    print(f'AND:{AND(*i)}  ',sep= ' ',end='')\n",
    "    print(f'NAND:{NAND(*i)}  ',sep= ' ',end='')\n",
    "    print(f'OR:{OR(*i)}  ',sep= ' ',end='')\n",
    "    print(f'XOR:{XOR(*i)}  ',sep= ' ',end='')\n",
    "    print('')\n",
    "# 리스트 앞에 *이거 붙이면 그냥 리스트 형태가 아니라 풀어서 전달함 [0,1]이라면 0,1 이렇게 전달함 \n"
   ]
  },
  {
   "cell_type": "code",
   "execution_count": 18,
   "metadata": {},
   "outputs": [],
   "source": [
    "def step_func(x):\n",
    "    for i in x:\n",
    "        if i < 0.0:\n",
    "            x[x.index(i)] = 0\n",
    "        else:\n",
    "            continue\n",
    "\n"
   ]
  },
  {
   "cell_type": "code",
   "execution_count": null,
   "metadata": {},
   "outputs": [],
   "source": []
  }
 ],
 "metadata": {
  "kernelspec": {
   "display_name": "tts_gan_env",
   "language": "python",
   "name": "python3"
  },
  "language_info": {
   "codemirror_mode": {
    "name": "ipython",
    "version": 3
   },
   "file_extension": ".py",
   "mimetype": "text/x-python",
   "name": "python",
   "nbconvert_exporter": "python",
   "pygments_lexer": "ipython3",
   "version": "3.8.20"
  }
 },
 "nbformat": 4,
 "nbformat_minor": 2
}
